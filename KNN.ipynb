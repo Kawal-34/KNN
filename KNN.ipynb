{
 "cells": [
  {
   "cell_type": "code",
   "execution_count": 40,
   "id": "4e246299",
   "metadata": {},
   "outputs": [],
   "source": [
    "import pandas as pd\n",
    "from sklearn import preprocessing\n",
    "from sklearn.model_selection import train_test_split\n",
    "from sklearn.metrics import accuracy_score\n",
    "from sklearn.neighbors import NearestNeighbors, KNeighborsClassifier\n",
    "from sklearn.linear_model import LinearRegression, Lasso, Ridge, LassoCV, BayesianRidge\n",
    "import matplotlib.pylab as plt"
   ]
  },
  {
   "cell_type": "code",
   "execution_count": 41,
   "id": "5cba82a5",
   "metadata": {},
   "outputs": [],
   "source": [
    "Loan = pd.read_excel(r'D:\\Business Analytics\\Capstone Project\\Datasets\\Loan Data.xlsx')\n"
   ]
  },
  {
   "cell_type": "code",
   "execution_count": 43,
   "id": "d846c5f7",
   "metadata": {},
   "outputs": [
    {
     "data": {
      "text/html": [
       "<div>\n",
       "<style scoped>\n",
       "    .dataframe tbody tr th:only-of-type {\n",
       "        vertical-align: middle;\n",
       "    }\n",
       "\n",
       "    .dataframe tbody tr th {\n",
       "        vertical-align: top;\n",
       "    }\n",
       "\n",
       "    .dataframe thead th {\n",
       "        text-align: right;\n",
       "    }\n",
       "</style>\n",
       "<table border=\"1\" class=\"dataframe\">\n",
       "  <thead>\n",
       "    <tr style=\"text-align: right;\">\n",
       "      <th></th>\n",
       "      <th>Index</th>\n",
       "      <th>Employed</th>\n",
       "      <th>Bank Balance</th>\n",
       "      <th>Annual Salary</th>\n",
       "      <th>Defaulted?</th>\n",
       "      <th>Gender</th>\n",
       "      <th>Age</th>\n",
       "      <th>Marital Status</th>\n",
       "      <th>Dependents</th>\n",
       "      <th>Urban</th>\n",
       "      <th>Own House</th>\n",
       "      <th>Credit Rating</th>\n",
       "    </tr>\n",
       "  </thead>\n",
       "  <tbody>\n",
       "    <tr>\n",
       "      <th>0</th>\n",
       "      <td>1</td>\n",
       "      <td>1</td>\n",
       "      <td>8754.36</td>\n",
       "      <td>532339.56</td>\n",
       "      <td>0</td>\n",
       "      <td>Male</td>\n",
       "      <td>26</td>\n",
       "      <td>Married</td>\n",
       "      <td>4</td>\n",
       "      <td>0</td>\n",
       "      <td>0</td>\n",
       "      <td>6.6</td>\n",
       "    </tr>\n",
       "    <tr>\n",
       "      <th>1</th>\n",
       "      <td>2</td>\n",
       "      <td>0</td>\n",
       "      <td>9806.16</td>\n",
       "      <td>145273.56</td>\n",
       "      <td>0</td>\n",
       "      <td>Male</td>\n",
       "      <td>29</td>\n",
       "      <td>Single</td>\n",
       "      <td>3</td>\n",
       "      <td>1</td>\n",
       "      <td>0</td>\n",
       "      <td>7.2</td>\n",
       "    </tr>\n",
       "    <tr>\n",
       "      <th>2</th>\n",
       "      <td>3</td>\n",
       "      <td>1</td>\n",
       "      <td>12882.60</td>\n",
       "      <td>381205.68</td>\n",
       "      <td>0</td>\n",
       "      <td>Male</td>\n",
       "      <td>43</td>\n",
       "      <td>Single</td>\n",
       "      <td>4</td>\n",
       "      <td>0</td>\n",
       "      <td>1</td>\n",
       "      <td>4.1</td>\n",
       "    </tr>\n",
       "    <tr>\n",
       "      <th>3</th>\n",
       "      <td>4</td>\n",
       "      <td>1</td>\n",
       "      <td>6351.00</td>\n",
       "      <td>428453.88</td>\n",
       "      <td>0</td>\n",
       "      <td>Female</td>\n",
       "      <td>33</td>\n",
       "      <td>Divorced</td>\n",
       "      <td>1</td>\n",
       "      <td>0</td>\n",
       "      <td>0</td>\n",
       "      <td>9.2</td>\n",
       "    </tr>\n",
       "    <tr>\n",
       "      <th>4</th>\n",
       "      <td>5</td>\n",
       "      <td>1</td>\n",
       "      <td>9427.92</td>\n",
       "      <td>461562.00</td>\n",
       "      <td>0</td>\n",
       "      <td>Female</td>\n",
       "      <td>50</td>\n",
       "      <td>Married</td>\n",
       "      <td>5</td>\n",
       "      <td>0</td>\n",
       "      <td>1</td>\n",
       "      <td>9.3</td>\n",
       "    </tr>\n",
       "  </tbody>\n",
       "</table>\n",
       "</div>"
      ],
      "text/plain": [
       "   Index  Employed  Bank Balance  Annual Salary  Defaulted?  Gender  Age  \\\n",
       "0      1         1       8754.36      532339.56           0    Male   26   \n",
       "1      2         0       9806.16      145273.56           0    Male   29   \n",
       "2      3         1      12882.60      381205.68           0    Male   43   \n",
       "3      4         1       6351.00      428453.88           0  Female   33   \n",
       "4      5         1       9427.92      461562.00           0  Female   50   \n",
       "\n",
       "  Marital Status  Dependents  Urban  Own House  Credit Rating  \n",
       "0        Married           4      0          0            6.6  \n",
       "1         Single           3      1          0            7.2  \n",
       "2         Single           4      0          1            4.1  \n",
       "3       Divorced           1      0          0            9.2  \n",
       "4        Married           5      0          1            9.3  "
      ]
     },
     "execution_count": 43,
     "metadata": {},
     "output_type": "execute_result"
    }
   ],
   "source": [
    "Loan.head()"
   ]
  },
  {
   "cell_type": "code",
   "execution_count": 15,
   "id": "eba88d0d",
   "metadata": {},
   "outputs": [
    {
     "data": {
      "text/plain": [
       "(10000, 12)"
      ]
     },
     "execution_count": 15,
     "metadata": {},
     "output_type": "execute_result"
    }
   ],
   "source": [
    "Loan.shape"
   ]
  },
  {
   "cell_type": "code",
   "execution_count": 44,
   "id": "ed4f3de4",
   "metadata": {},
   "outputs": [
    {
     "data": {
      "text/html": [
       "<div>\n",
       "<style scoped>\n",
       "    .dataframe tbody tr th:only-of-type {\n",
       "        vertical-align: middle;\n",
       "    }\n",
       "\n",
       "    .dataframe tbody tr th {\n",
       "        vertical-align: top;\n",
       "    }\n",
       "\n",
       "    .dataframe thead th {\n",
       "        text-align: right;\n",
       "    }\n",
       "</style>\n",
       "<table border=\"1\" class=\"dataframe\">\n",
       "  <thead>\n",
       "    <tr style=\"text-align: right;\">\n",
       "      <th></th>\n",
       "      <th>Index</th>\n",
       "      <th>Employed</th>\n",
       "      <th>Bank Balance</th>\n",
       "      <th>Annual Salary</th>\n",
       "      <th>Defaulted?</th>\n",
       "      <th>Age</th>\n",
       "      <th>Dependents</th>\n",
       "      <th>Urban</th>\n",
       "      <th>Own House</th>\n",
       "      <th>Credit Rating</th>\n",
       "    </tr>\n",
       "  </thead>\n",
       "  <tbody>\n",
       "    <tr>\n",
       "      <th>count</th>\n",
       "      <td>10000.00000</td>\n",
       "      <td>10000.000000</td>\n",
       "      <td>10000.000000</td>\n",
       "      <td>10000.000000</td>\n",
       "      <td>10000.000000</td>\n",
       "      <td>10000.000000</td>\n",
       "      <td>10000.000000</td>\n",
       "      <td>10000.000000</td>\n",
       "      <td>10000.000000</td>\n",
       "      <td>10000.000000</td>\n",
       "    </tr>\n",
       "    <tr>\n",
       "      <th>mean</th>\n",
       "      <td>5000.50000</td>\n",
       "      <td>0.705600</td>\n",
       "      <td>10024.498524</td>\n",
       "      <td>402203.782224</td>\n",
       "      <td>0.033300</td>\n",
       "      <td>42.973400</td>\n",
       "      <td>3.000200</td>\n",
       "      <td>0.505300</td>\n",
       "      <td>0.498400</td>\n",
       "      <td>7.018920</td>\n",
       "    </tr>\n",
       "    <tr>\n",
       "      <th>std</th>\n",
       "      <td>2886.89568</td>\n",
       "      <td>0.455795</td>\n",
       "      <td>5804.579486</td>\n",
       "      <td>160039.674988</td>\n",
       "      <td>0.179428</td>\n",
       "      <td>12.935997</td>\n",
       "      <td>1.415839</td>\n",
       "      <td>0.499997</td>\n",
       "      <td>0.500022</td>\n",
       "      <td>1.763426</td>\n",
       "    </tr>\n",
       "    <tr>\n",
       "      <th>min</th>\n",
       "      <td>1.00000</td>\n",
       "      <td>0.000000</td>\n",
       "      <td>0.000000</td>\n",
       "      <td>9263.640000</td>\n",
       "      <td>0.000000</td>\n",
       "      <td>21.000000</td>\n",
       "      <td>1.000000</td>\n",
       "      <td>0.000000</td>\n",
       "      <td>0.000000</td>\n",
       "      <td>4.000000</td>\n",
       "    </tr>\n",
       "    <tr>\n",
       "      <th>25%</th>\n",
       "      <td>2500.75000</td>\n",
       "      <td>0.000000</td>\n",
       "      <td>5780.790000</td>\n",
       "      <td>256085.520000</td>\n",
       "      <td>0.000000</td>\n",
       "      <td>32.000000</td>\n",
       "      <td>2.000000</td>\n",
       "      <td>0.000000</td>\n",
       "      <td>0.000000</td>\n",
       "      <td>5.500000</td>\n",
       "    </tr>\n",
       "    <tr>\n",
       "      <th>50%</th>\n",
       "      <td>5000.50000</td>\n",
       "      <td>1.000000</td>\n",
       "      <td>9883.620000</td>\n",
       "      <td>414631.740000</td>\n",
       "      <td>0.000000</td>\n",
       "      <td>43.000000</td>\n",
       "      <td>3.000000</td>\n",
       "      <td>1.000000</td>\n",
       "      <td>0.000000</td>\n",
       "      <td>7.000000</td>\n",
       "    </tr>\n",
       "    <tr>\n",
       "      <th>75%</th>\n",
       "      <td>7500.25000</td>\n",
       "      <td>1.000000</td>\n",
       "      <td>13995.660000</td>\n",
       "      <td>525692.760000</td>\n",
       "      <td>0.000000</td>\n",
       "      <td>54.000000</td>\n",
       "      <td>4.000000</td>\n",
       "      <td>1.000000</td>\n",
       "      <td>1.000000</td>\n",
       "      <td>8.500000</td>\n",
       "    </tr>\n",
       "    <tr>\n",
       "      <th>max</th>\n",
       "      <td>10000.00000</td>\n",
       "      <td>1.000000</td>\n",
       "      <td>31851.840000</td>\n",
       "      <td>882650.760000</td>\n",
       "      <td>1.000000</td>\n",
       "      <td>65.000000</td>\n",
       "      <td>5.000000</td>\n",
       "      <td>1.000000</td>\n",
       "      <td>1.000000</td>\n",
       "      <td>10.000000</td>\n",
       "    </tr>\n",
       "  </tbody>\n",
       "</table>\n",
       "</div>"
      ],
      "text/plain": [
       "             Index      Employed  Bank Balance  Annual Salary    Defaulted?  \\\n",
       "count  10000.00000  10000.000000  10000.000000   10000.000000  10000.000000   \n",
       "mean    5000.50000      0.705600  10024.498524  402203.782224      0.033300   \n",
       "std     2886.89568      0.455795   5804.579486  160039.674988      0.179428   \n",
       "min        1.00000      0.000000      0.000000    9263.640000      0.000000   \n",
       "25%     2500.75000      0.000000   5780.790000  256085.520000      0.000000   \n",
       "50%     5000.50000      1.000000   9883.620000  414631.740000      0.000000   \n",
       "75%     7500.25000      1.000000  13995.660000  525692.760000      0.000000   \n",
       "max    10000.00000      1.000000  31851.840000  882650.760000      1.000000   \n",
       "\n",
       "                Age    Dependents         Urban     Own House  Credit Rating  \n",
       "count  10000.000000  10000.000000  10000.000000  10000.000000   10000.000000  \n",
       "mean      42.973400      3.000200      0.505300      0.498400       7.018920  \n",
       "std       12.935997      1.415839      0.499997      0.500022       1.763426  \n",
       "min       21.000000      1.000000      0.000000      0.000000       4.000000  \n",
       "25%       32.000000      2.000000      0.000000      0.000000       5.500000  \n",
       "50%       43.000000      3.000000      1.000000      0.000000       7.000000  \n",
       "75%       54.000000      4.000000      1.000000      1.000000       8.500000  \n",
       "max       65.000000      5.000000      1.000000      1.000000      10.000000  "
      ]
     },
     "execution_count": 44,
     "metadata": {},
     "output_type": "execute_result"
    }
   ],
   "source": [
    "Loan.describe()"
   ]
  },
  {
   "cell_type": "code",
   "execution_count": 48,
   "id": "8ffee617",
   "metadata": {},
   "outputs": [],
   "source": [
    "predictors = ['Annual Salary', 'Dependents', 'Credit Rating', 'Age','Bank Balance','Gender','Own House','Urban','Employed']\n",
    "outcome = 'Defaulted?'"
   ]
  },
  {
   "cell_type": "code",
   "execution_count": 49,
   "id": "3a0eb583",
   "metadata": {},
   "outputs": [],
   "source": [
    "from dmba import regressionSummary, exhaustive_search\n",
    "from dmba import backward_elimination, forward_selection, stepwise_selection\n",
    "from dmba import adjusted_r2_score, AIC_score, BIC_score"
   ]
  },
  {
   "cell_type": "code",
   "execution_count": 50,
   "id": "e2355fe6",
   "metadata": {},
   "outputs": [
    {
     "data": {
      "text/plain": [
       "LinearRegression()"
      ]
     },
     "execution_count": 50,
     "metadata": {},
     "output_type": "execute_result"
    }
   ],
   "source": [
    "X = pd.get_dummies(Loan[predictors], drop_first=True)\n",
    "y = Loan[outcome]\n",
    "train_X, test_X, train_y, test_y = train_test_split(X, y, test_size=0.35, random_state=1)\n",
    "\n",
    "Loan_lm = LinearRegression()\n",
    "Loan_lm.fit(train_X, train_y)"
   ]
  },
  {
   "cell_type": "code",
   "execution_count": 51,
   "id": "b1533178",
   "metadata": {},
   "outputs": [
    {
     "data": {
      "text/html": [
       "<div>\n",
       "<style scoped>\n",
       "    .dataframe tbody tr th:only-of-type {\n",
       "        vertical-align: middle;\n",
       "    }\n",
       "\n",
       "    .dataframe tbody tr th {\n",
       "        vertical-align: top;\n",
       "    }\n",
       "\n",
       "    .dataframe thead th {\n",
       "        text-align: right;\n",
       "    }\n",
       "</style>\n",
       "<table border=\"1\" class=\"dataframe\">\n",
       "  <thead>\n",
       "    <tr style=\"text-align: right;\">\n",
       "      <th></th>\n",
       "      <th>Annual Salary</th>\n",
       "      <th>Dependents</th>\n",
       "      <th>Credit Rating</th>\n",
       "      <th>Age</th>\n",
       "      <th>Bank Balance</th>\n",
       "      <th>Own House</th>\n",
       "      <th>Urban</th>\n",
       "      <th>Employed</th>\n",
       "      <th>Gender_Male</th>\n",
       "    </tr>\n",
       "  </thead>\n",
       "  <tbody>\n",
       "    <tr>\n",
       "      <th>4825</th>\n",
       "      <td>539594.52</td>\n",
       "      <td>3</td>\n",
       "      <td>6.2</td>\n",
       "      <td>21</td>\n",
       "      <td>11889.72</td>\n",
       "      <td>1</td>\n",
       "      <td>1</td>\n",
       "      <td>1</td>\n",
       "      <td>0</td>\n",
       "    </tr>\n",
       "    <tr>\n",
       "      <th>4606</th>\n",
       "      <td>255565.44</td>\n",
       "      <td>3</td>\n",
       "      <td>6.6</td>\n",
       "      <td>64</td>\n",
       "      <td>7628.88</td>\n",
       "      <td>0</td>\n",
       "      <td>1</td>\n",
       "      <td>1</td>\n",
       "      <td>1</td>\n",
       "    </tr>\n",
       "    <tr>\n",
       "      <th>9482</th>\n",
       "      <td>401880.12</td>\n",
       "      <td>3</td>\n",
       "      <td>10.0</td>\n",
       "      <td>58</td>\n",
       "      <td>3247.08</td>\n",
       "      <td>1</td>\n",
       "      <td>0</td>\n",
       "      <td>1</td>\n",
       "      <td>1</td>\n",
       "    </tr>\n",
       "    <tr>\n",
       "      <th>3761</th>\n",
       "      <td>532650.84</td>\n",
       "      <td>4</td>\n",
       "      <td>5.9</td>\n",
       "      <td>43</td>\n",
       "      <td>0.00</td>\n",
       "      <td>1</td>\n",
       "      <td>1</td>\n",
       "      <td>1</td>\n",
       "      <td>1</td>\n",
       "    </tr>\n",
       "    <tr>\n",
       "      <th>8756</th>\n",
       "      <td>478531.32</td>\n",
       "      <td>2</td>\n",
       "      <td>6.9</td>\n",
       "      <td>22</td>\n",
       "      <td>15939.96</td>\n",
       "      <td>1</td>\n",
       "      <td>0</td>\n",
       "      <td>1</td>\n",
       "      <td>0</td>\n",
       "    </tr>\n",
       "    <tr>\n",
       "      <th>...</th>\n",
       "      <td>...</td>\n",
       "      <td>...</td>\n",
       "      <td>...</td>\n",
       "      <td>...</td>\n",
       "      <td>...</td>\n",
       "      <td>...</td>\n",
       "      <td>...</td>\n",
       "      <td>...</td>\n",
       "      <td>...</td>\n",
       "    </tr>\n",
       "    <tr>\n",
       "      <th>2895</th>\n",
       "      <td>201708.12</td>\n",
       "      <td>2</td>\n",
       "      <td>6.7</td>\n",
       "      <td>21</td>\n",
       "      <td>15241.08</td>\n",
       "      <td>1</td>\n",
       "      <td>0</td>\n",
       "      <td>0</td>\n",
       "      <td>0</td>\n",
       "    </tr>\n",
       "    <tr>\n",
       "      <th>7813</th>\n",
       "      <td>469960.32</td>\n",
       "      <td>4</td>\n",
       "      <td>5.9</td>\n",
       "      <td>41</td>\n",
       "      <td>19176.24</td>\n",
       "      <td>0</td>\n",
       "      <td>1</td>\n",
       "      <td>1</td>\n",
       "      <td>0</td>\n",
       "    </tr>\n",
       "    <tr>\n",
       "      <th>905</th>\n",
       "      <td>375760.44</td>\n",
       "      <td>3</td>\n",
       "      <td>5.8</td>\n",
       "      <td>64</td>\n",
       "      <td>14813.76</td>\n",
       "      <td>1</td>\n",
       "      <td>1</td>\n",
       "      <td>1</td>\n",
       "      <td>0</td>\n",
       "    </tr>\n",
       "    <tr>\n",
       "      <th>5192</th>\n",
       "      <td>351871.56</td>\n",
       "      <td>5</td>\n",
       "      <td>4.1</td>\n",
       "      <td>33</td>\n",
       "      <td>0.00</td>\n",
       "      <td>0</td>\n",
       "      <td>0</td>\n",
       "      <td>1</td>\n",
       "      <td>0</td>\n",
       "    </tr>\n",
       "    <tr>\n",
       "      <th>235</th>\n",
       "      <td>412689.00</td>\n",
       "      <td>5</td>\n",
       "      <td>9.9</td>\n",
       "      <td>45</td>\n",
       "      <td>11577.84</td>\n",
       "      <td>0</td>\n",
       "      <td>0</td>\n",
       "      <td>1</td>\n",
       "      <td>0</td>\n",
       "    </tr>\n",
       "  </tbody>\n",
       "</table>\n",
       "<p>6500 rows × 9 columns</p>\n",
       "</div>"
      ],
      "text/plain": [
       "      Annual Salary  Dependents  Credit Rating  Age  Bank Balance  Own House  \\\n",
       "4825      539594.52           3            6.2   21      11889.72          1   \n",
       "4606      255565.44           3            6.6   64       7628.88          0   \n",
       "9482      401880.12           3           10.0   58       3247.08          1   \n",
       "3761      532650.84           4            5.9   43          0.00          1   \n",
       "8756      478531.32           2            6.9   22      15939.96          1   \n",
       "...             ...         ...            ...  ...           ...        ...   \n",
       "2895      201708.12           2            6.7   21      15241.08          1   \n",
       "7813      469960.32           4            5.9   41      19176.24          0   \n",
       "905       375760.44           3            5.8   64      14813.76          1   \n",
       "5192      351871.56           5            4.1   33          0.00          0   \n",
       "235       412689.00           5            9.9   45      11577.84          0   \n",
       "\n",
       "      Urban  Employed  Gender_Male  \n",
       "4825      1         1            0  \n",
       "4606      1         1            1  \n",
       "9482      0         1            1  \n",
       "3761      1         1            1  \n",
       "8756      0         1            0  \n",
       "...     ...       ...          ...  \n",
       "2895      0         0            0  \n",
       "7813      1         1            0  \n",
       "905       1         1            0  \n",
       "5192      0         1            0  \n",
       "235       0         1            0  \n",
       "\n",
       "[6500 rows x 9 columns]"
      ]
     },
     "execution_count": 51,
     "metadata": {},
     "output_type": "execute_result"
    }
   ],
   "source": [
    "train_X"
   ]
  },
  {
   "cell_type": "code",
   "execution_count": 52,
   "id": "c5650fd7",
   "metadata": {},
   "outputs": [
    {
     "name": "stdout",
     "output_type": "stream",
     "text": [
      "intercept  -0.11603273440754185\n",
      "       Predictor   coefficient\n",
      "0  Annual Salary  1.559753e-08\n",
      "1     Dependents  1.182216e-03\n",
      "2  Credit Rating  9.459350e-04\n",
      "3            Age  1.580776e-04\n",
      "4   Bank Balance  1.160133e-05\n",
      "5      Own House  1.256237e-03\n",
      "6          Urban  4.454367e-03\n",
      "7       Employed  1.483805e-02\n",
      "8    Gender_Male -4.554999e-03\n"
     ]
    }
   ],
   "source": [
    "print('intercept ', Loan_lm.intercept_)\n",
    "print(pd.DataFrame({'Predictor': X.columns, 'coefficient': Loan_lm.coef_}))"
   ]
  },
  {
   "cell_type": "code",
   "execution_count": 53,
   "id": "561e4e7d",
   "metadata": {},
   "outputs": [
    {
     "name": "stdout",
     "output_type": "stream",
     "text": [
      "\n",
      "Regression statistics\n",
      "\n",
      "               Mean Error (ME) : -0.0000\n",
      "Root Mean Squared Error (RMSE) : 0.1704\n",
      "     Mean Absolute Error (MAE) : 0.0834\n"
     ]
    }
   ],
   "source": [
    "regressionSummary(train_y, Loan_lm.predict(train_X))"
   ]
  },
  {
   "cell_type": "code",
   "execution_count": 54,
   "id": "958023c0",
   "metadata": {},
   "outputs": [
    {
     "name": "stdout",
     "output_type": "stream",
     "text": [
      "adjusted r2 :  0.1299264142102402\n",
      "AIC :  -4536.9177198024845\n",
      "BIC :  -4462.3425877877635\n"
     ]
    }
   ],
   "source": [
    "pred_y = Loan_lm.predict(train_X)\n",
    "\n",
    "print('adjusted r2 : ', adjusted_r2_score(train_y, pred_y, Loan_lm))\n",
    "print('AIC : ', AIC_score(train_y, pred_y, Loan_lm))\n",
    "print('BIC : ', BIC_score(train_y, pred_y, Loan_lm))"
   ]
  },
  {
   "cell_type": "code",
   "execution_count": 55,
   "id": "5d8a49a6",
   "metadata": {},
   "outputs": [
    {
     "name": "stdout",
     "output_type": "stream",
     "text": [
      "      Predicted  Actual  Residual\n",
      "9953   0.002252       0 -0.002252\n",
      "3850   0.055304       0 -0.055304\n",
      "4962   0.016403       0 -0.016403\n",
      "3886   0.034366       0 -0.034366\n",
      "5437   0.121765       0 -0.121765\n",
      "8517   0.106614       0 -0.106614\n",
      "2041   0.030466       0 -0.030466\n",
      "1989   0.054483       0 -0.054483\n",
      "1933   0.036239       0 -0.036239\n",
      "9984   0.038124       0 -0.038124\n",
      "8418  -0.014402       0  0.014402\n",
      "2418   0.000879       0 -0.000879\n",
      "\n",
      "Regression statistics\n",
      "\n",
      "               Mean Error (ME) : -0.0037\n",
      "Root Mean Squared Error (RMSE) : 0.1633\n",
      "     Mean Absolute Error (MAE) : 0.0812\n"
     ]
    }
   ],
   "source": [
    "Loan_lm_pred = Loan_lm.predict(test_X)\n",
    "\n",
    "result = pd.DataFrame({'Predicted': Loan_lm_pred, 'Actual': test_y,\n",
    "                       'Residual': test_y - Loan_lm_pred})\n",
    "print(result.head(12))\n",
    "\n",
    "# Compute common accuracy measures\n",
    "regressionSummary(test_y, Loan_lm_pred)"
   ]
  },
  {
   "cell_type": "code",
   "execution_count": 57,
   "id": "01bb2921",
   "metadata": {},
   "outputs": [
    {
     "name": "stdout",
     "output_type": "stream",
     "text": [
      "       n  r2adj  AIC  Age  Annual Salary  Bank Balance  Credit Rating  Dependents  Employed  \\\n",
      "0    NaN    NaN  NaN   26      532339.56       8754.36            6.6           4         1   \n",
      "1    NaN    NaN  NaN   29      145273.56       9806.16            7.2           3         0   \n",
      "2    NaN    NaN  NaN   43      381205.68      12882.60            4.1           4         1   \n",
      "3    NaN    NaN  NaN   33      428453.88       6351.00            9.2           1         1   \n",
      "4    NaN    NaN  NaN   50      461562.00       9427.92            9.3           5         1   \n",
      "...   ..    ...  ...  ...            ...           ...            ...         ...       ...   \n",
      "9995 NaN    NaN  NaN   42      635908.56       8538.72            6.7           1         1   \n",
      "9996 NaN    NaN  NaN   26      235928.64       9095.52            6.9           5         1   \n",
      "9997 NaN    NaN  NaN   33      703633.92      10144.92            4.7           5         1   \n",
      "9998 NaN    NaN  NaN   63      440029.32      18828.12            5.3           2         1   \n",
      "9999 NaN    NaN  NaN   58      202355.40       2411.04            4.2           4         0   \n",
      "\n",
      "      Gender_Male  Own House  Urban  \n",
      "0             NaN          0      0  \n",
      "1             NaN          0      1  \n",
      "2             NaN          1      0  \n",
      "3             NaN          0      0  \n",
      "4             NaN          1      0  \n",
      "...           ...        ...    ...  \n",
      "9995          NaN          1      1  \n",
      "9996          NaN          1      0  \n",
      "9997          NaN          1      0  \n",
      "9998          NaN          0      0  \n",
      "9999          NaN          1      0  \n",
      "\n",
      "[10000 rows x 12 columns]\n"
     ]
    }
   ],
   "source": [
    "def train_model(variables):\n",
    "    model = LinearRegression()\n",
    "    model.fit(train_X[variables], train_y)\n",
    "    return model\n",
    "\n",
    "def score_model(model, variables):\n",
    "    pred_y = model.predict(train_X[variables])\n",
    "    # we negate as score is optimized to be as low as possible\n",
    "    return -adjusted_r2_score(train_y, pred_y, model)\n",
    "\n",
    "allVariables = train_X.columns\n",
    "results = exhaustive_search(allVariables, train_model, score_model)\n",
    "\n",
    "data = []\n",
    "for result in results:\n",
    "    model = result['model']\n",
    "    variables = result['variables']\n",
    "    AIC = AIC_score(train_y, model.predict(train_X[variables]), model)\n",
    "    \n",
    "    d = {'n': result['n'], 'r2adj': -result['score'], 'AIC': AIC}\n",
    "    d.update({var: var in result['variables'] for var in allVariables})\n",
    "    data.append(d)\n",
    "pd.set_option('display.width', 100)\n",
    "print(pd.DataFrame(Loan, columns=('n', 'r2adj', 'AIC') + tuple(sorted(allVariables))))\n",
    "pd.reset_option('display.width')"
   ]
  },
  {
   "cell_type": "code",
   "execution_count": 58,
   "id": "8fe1d935",
   "metadata": {},
   "outputs": [
    {
     "name": "stdout",
     "output_type": "stream",
     "text": [
      "Variables: Annual Salary, Dependents, Credit Rating, Age, Bank Balance, Own House, Urban, Employed, Gender_Male\n",
      "Start: score=-4536.92\n",
      "Step: score=-4538.83, remove Own House\n",
      "Step: score=-4540.23, remove Annual Salary\n",
      "Step: score=-4541.62, remove Credit Rating\n",
      "Step: score=-4543.02, remove Dependents\n",
      "Step: score=-4544.01, remove Age\n",
      "Step: score=-4544.95, remove Urban\n",
      "Step: score=-4545.79, remove Gender_Male\n",
      "Step: score=-4545.79, remove None\n",
      "['Bank Balance', 'Employed']\n"
     ]
    }
   ],
   "source": [
    "def train_model(variables):\n",
    "    model = LinearRegression()\n",
    "    model.fit(train_X[variables], train_y)\n",
    "    return model\n",
    "\n",
    "def score_model(model, variables):\n",
    "    return AIC_score(train_y, model.predict(train_X[variables]), model)\n",
    "\n",
    "best_model, best_variables = backward_elimination(train_X.columns, train_model, score_model, verbose=True)\n",
    "\n",
    "print(best_variables)"
   ]
  },
  {
   "cell_type": "code",
   "execution_count": 59,
   "id": "196d1ab1",
   "metadata": {},
   "outputs": [
    {
     "name": "stdout",
     "output_type": "stream",
     "text": [
      "\n",
      "Regression statistics\n",
      "\n",
      "               Mean Error (ME) : -0.0037\n",
      "Root Mean Squared Error (RMSE) : 0.1633\n",
      "     Mean Absolute Error (MAE) : 0.0812\n"
     ]
    }
   ],
   "source": [
    "regressionSummary(test_y, best_model.predict(test_X[best_variables]))"
   ]
  },
  {
   "cell_type": "code",
   "execution_count": 60,
   "id": "3913bd61",
   "metadata": {},
   "outputs": [
    {
     "name": "stdout",
     "output_type": "stream",
     "text": [
      "Variables: Annual Salary, Dependents, Credit Rating, Age, Bank Balance, Own House, Urban, Employed, Gender_Male\n",
      "Start: score=-3641.26, constant\n",
      "Step: score=-4531.52, add Bank Balance\n",
      "Step: score=-4545.79, add Employed\n",
      "Step: score=-4545.79, add None\n",
      "['Bank Balance', 'Employed']\n"
     ]
    }
   ],
   "source": [
    "def train_model(variables):\n",
    "    if len(variables) == 0:\n",
    "        return None\n",
    "    model = LinearRegression()\n",
    "    model.fit(train_X[variables], train_y)\n",
    "    return model\n",
    "\n",
    "def score_model(model, variables):\n",
    "    if len(variables) == 0:\n",
    "        return AIC_score(train_y, [train_y.mean()] * len(train_y), model, df=1)\n",
    "    return AIC_score(train_y, model.predict(train_X[variables]), model)\n",
    "\n",
    "best_model, best_variables = forward_selection(train_X.columns, train_model, score_model, verbose=True)\n",
    "\n",
    "print(best_variables)"
   ]
  },
  {
   "cell_type": "code",
   "execution_count": 61,
   "id": "5d165738",
   "metadata": {},
   "outputs": [
    {
     "name": "stdout",
     "output_type": "stream",
     "text": [
      "Variables: Annual Salary, Dependents, Credit Rating, Age, Bank Balance, Own House, Urban, Employed, Gender_Male\n",
      "Start: score=-3641.26, constant\n",
      "Step: score=-4531.52, add Bank Balance\n",
      "Step: score=-4545.79, add Employed\n",
      "Step: score=-4545.79, unchanged None\n",
      "['Bank Balance', 'Employed']\n"
     ]
    }
   ],
   "source": [
    "best_model, best_variables = stepwise_selection(train_X.columns, train_model, score_model, verbose=True)\n",
    "\n",
    "print(best_variables)"
   ]
  },
  {
   "cell_type": "code",
   "execution_count": 65,
   "id": "319fe7c0",
   "metadata": {},
   "outputs": [
    {
     "data": {
      "text/plain": [
       "StandardScaler()"
      ]
     },
     "execution_count": 65,
     "metadata": {},
     "output_type": "execute_result"
    }
   ],
   "source": [
    "scaler = preprocessing.StandardScaler()\n",
    "scaler.fit(Loan[['Bank Balance', 'Employed']]) "
   ]
  },
  {
   "cell_type": "code",
   "execution_count": 78,
   "id": "7291691d",
   "metadata": {},
   "outputs": [
    {
     "ename": "SyntaxError",
     "evalue": "invalid syntax (<ipython-input-78-2483e994fecd>, line 4)",
     "output_type": "error",
     "traceback": [
      "\u001b[1;36m  File \u001b[1;32m\"<ipython-input-78-2483e994fecd>\"\u001b[1;36m, line \u001b[1;32m4\u001b[0m\n\u001b[1;33m    train = LoanNorm.iloc[trainLoan.index]\u001b[0m\n\u001b[1;37m    ^\u001b[0m\n\u001b[1;31mSyntaxError\u001b[0m\u001b[1;31m:\u001b[0m invalid syntax\n"
     ]
    }
   ],
   "source": [
    "LoanNorm = pd.concat([pd.DataFrame(scaler.transform\n",
    "(Loan['Bank Balance', 'Employed']),columns=['Bank Balance', \n",
    "'Employed'], Loan['Defaulted?'], axis=1)\n",
    "train = LoanNorm.iloc[trainLoan.index]\n",
    "validNorm = LoanNorm.iloc[validData.index]\n",
    "newHouseholdNorm = pd.DataFrame(scaler.transform(newHousehold),\n",
    "columns=['Bank Balance', 'Employed']"
   ]
  }
 ],
 "metadata": {
  "kernelspec": {
   "display_name": "Python 3",
   "language": "python",
   "name": "python3"
  },
  "language_info": {
   "codemirror_mode": {
    "name": "ipython",
    "version": 3
   },
   "file_extension": ".py",
   "mimetype": "text/x-python",
   "name": "python",
   "nbconvert_exporter": "python",
   "pygments_lexer": "ipython3",
   "version": "3.8.8"
  }
 },
 "nbformat": 4,
 "nbformat_minor": 5
}
